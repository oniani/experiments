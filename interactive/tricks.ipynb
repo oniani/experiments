{
 "cells": [
  {
   "cell_type": "markdown",
   "metadata": {},
   "source": [
    "# Helpers"
   ]
  },
  {
   "cell_type": "code",
   "execution_count": 1,
   "metadata": {},
   "outputs": [],
   "source": [
    "from collections import defaultdict, deque\n",
    "from math import floor, sqrt\n",
    "from pprint import pprint\n",
    "from typing import Generator"
   ]
  },
  {
   "cell_type": "markdown",
   "metadata": {},
   "source": [
    "# Tricks"
   ]
  },
  {
   "cell_type": "markdown",
   "metadata": {},
   "source": [
    "## 1. Unique Representation of Anagrams (Grouping)"
   ]
  },
  {
   "cell_type": "code",
   "execution_count": 2,
   "metadata": {},
   "outputs": [],
   "source": [
    "strings: list[str] = [\"eat\", \"tea\", \"tan\", \"ate\", \"nat\", \"bat\"]"
   ]
  },
  {
   "cell_type": "markdown",
   "metadata": {},
   "source": [
    "### Using List Counts and ASCII Values"
   ]
  },
  {
   "cell_type": "code",
   "execution_count": 3,
   "metadata": {},
   "outputs": [
    {
     "name": "stdout",
     "output_type": "stream",
     "text": [
      "defaultdict(<class 'list'>,\n",
      "            {'10000000000001000001000000': ['tan', 'nat'],\n",
      "             '10001000000000000001000000': ['eat', 'tea', 'ate'],\n",
      "             '11000000000000000001000000': ['bat']})\n"
     ]
    }
   ],
   "source": [
    "def groupgen(strings: list[str]) -> list[list[str]]:\n",
    "    \"\"\"Group anagrams.\"\"\"\n",
    "    groups: dict[str, list[str]] = defaultdict(list)\n",
    "    for string in strings:\n",
    "        counts: list[int] = [0 for _ in range(26)]\n",
    "        for char in string:\n",
    "            counts[ord(char) - ord(\"a\")] += 1\n",
    "        groups[\"\".join(map(str, counts))].append(string)\n",
    "\n",
    "    return groups\n",
    "\n",
    "pprint(groupgen(strings))"
   ]
  },
  {
   "cell_type": "markdown",
   "metadata": {},
   "source": [
    "### Using k Distinct Primes"
   ]
  },
  {
   "cell_type": "code",
   "execution_count": 4,
   "metadata": {},
   "outputs": [
    {
     "name": "stdout",
     "output_type": "stream",
     "text": [
      "defaultdict(<class 'list'>,\n",
      "            {426: ['bat'],\n",
      "             1562: ['eat', 'tea', 'ate'],\n",
      "             6106: ['tan', 'nat']})\n"
     ]
    }
   ],
   "source": [
    "def is_prime(num: int) -> bool:\n",
    "    \"\"\"Checks whether a number is prime.\"\"\"\n",
    "    \n",
    "    if num % 6 not in {1, 5}:\n",
    "        return False\n",
    "\n",
    "    for div in range(2, floor(sqrt(num)) + 1):\n",
    "        if num % div == 0:\n",
    "            return False\n",
    "\n",
    "    return True\n",
    "\n",
    "def primegen() -> int:\n",
    "    \"\"\"Prime number generator.\"\"\"\n",
    "\n",
    "    yield from [2, 3]\n",
    "    num: int = 5\n",
    "    while True:\n",
    "        if is_prime(num):\n",
    "            yield num\n",
    "        num += 1\n",
    "\n",
    "# Generate primes\n",
    "gen: Generator[int, int, int] = primegen()\n",
    "primes: dict[str, int] = dict(zip(\"abcdefghijklmnopqrstuvwzyz\", [next(gen) for _ in range(26)]))\n",
    "\n",
    "# Generate groups\n",
    "groups: dict[int, list[str]] = defaultdict(list)\n",
    "for string in strings:\n",
    "    prod: int = 1\n",
    "    for char in string:\n",
    "        prod *= primes[char]\n",
    "    groups[prod].append(string)\n",
    "\n",
    "pprint(groups)"
   ]
  },
  {
   "cell_type": "markdown",
   "metadata": {},
   "source": [
    "## 2. MinimumArea Rectangle"
   ]
  },
  {
   "cell_type": "code",
   "execution_count": 5,
   "metadata": {},
   "outputs": [],
   "source": [
    "points: list[int] = [(1, 1), (1, 3), (3, 1), (3, 3), (2, 2)]"
   ]
  },
  {
   "cell_type": "code",
   "execution_count": 6,
   "metadata": {},
   "outputs": [
    {
     "name": "stdout",
     "output_type": "stream",
     "text": [
      "4\n"
     ]
    }
   ],
   "source": [
    "#\n",
    "#   (1, 3)     (3, 3)\n",
    "#     *          *\n",
    "#\n",
    "#     *          *\n",
    "#   (1, 1)     (3, 1)\n",
    "#\n",
    "\n",
    "def min_rec_area(points: list[tuple[float, float]]) -> float:\n",
    "    seen: set[tuple[int, int]] = set(map(tuple, points))\n",
    "\n",
    "    res: float = float(\"inf\")\n",
    "    for i in range(len(points)):\n",
    "        p1: tuple[int, int] = points[i]\n",
    "        # No need to iterate through all points in the second loop\n",
    "        # as at one point, all of the diagonals will be checked anyway\n",
    "        for j in range(i):\n",
    "            p2: tuple[int, int] = points[j]\n",
    "            # If the points form a diagonal\n",
    "            if p1[0] != p2[0] and p1[1] != p2[1]:\n",
    "                # And if we can find another diagonal\n",
    "                if {(p1[0], p2[1]), (p2[0], p1[1])} <= seen:\n",
    "                    # Properly update the minimum\n",
    "                    res = min(res, abs((p1[0] - p2[0]) * (p1[1] - p2[1])))\n",
    "\n",
    "\n",
    "    # In the end, if `res` has changed, return that value\n",
    "    # Otherwise, return `0`\n",
    "    return res if res != float(\"inf\") else 0\n",
    "\n",
    "pprint(min_rec_area(points))"
   ]
  },
  {
   "cell_type": "markdown",
   "metadata": {},
   "source": [
    "## 3. Balanced Parantheses"
   ]
  },
  {
   "cell_type": "markdown",
   "metadata": {},
   "source": [
    "The idea here is simple. The problem can be solved by applying the following procedures:\n",
    "\n",
    "- While there are characters to go through:\n",
    "    - If we stumble into an opening paranthesis, push it onto the stack\n",
    "    - If we stumble into a closing paranthesis:\n",
    "        - Make sure the stack is not empty\n",
    "        - Make sure that the last item on the stack was the opening one\n",
    "- Make sure that the stack is empty"
   ]
  },
  {
   "cell_type": "code",
   "execution_count": 7,
   "metadata": {},
   "outputs": [],
   "source": [
    "string1: str = \"((adasdsadl))a{{asld}asl}sd(asdad)()a{asdlaksj{{a}}hl}s()sla(()())das()(asda(asdas))(asd[[]asdas[[kjdsf]aslkdjas][]]asd)d(sadasd)\"\n",
    "string2: str = \"((adasdsadl))a{{asld}asl}sd(asdad)()a{asdlaksj{{a}}hl}s()sla(()())das()(asda(asdas))(asd[[]asdas[[kjdsf]aslkdjas][]]asd)d(sadasd)[\""
   ]
  },
  {
   "cell_type": "code",
   "execution_count": 8,
   "metadata": {},
   "outputs": [
    {
     "name": "stdout",
     "output_type": "stream",
     "text": [
      "True\n",
      "False\n"
     ]
    }
   ],
   "source": [
    "def is_balanced(string: str) -> bool:\n",
    "    \"\"\"Checks if a string contains balanced sequence of parantheses.\"\"\"\n",
    "\n",
    "    stack: list[str] = []\n",
    "    closing: dict[str, str] = {\")\": \"(\", \"}\": \"{\", \"]\": \"[\"}\n",
    "    opening: set[str] = set(closing.values())\n",
    "    for char in string:\n",
    "        if char in opening:\n",
    "            stack.append(char)\n",
    "        elif char in closing and (not stack or closing[char] != stack.pop()):\n",
    "            return False\n",
    "\n",
    "    return not stack\n",
    "\n",
    "print(is_balanced(string1))\n",
    "print(is_balanced(string2))"
   ]
  },
  {
   "cell_type": "markdown",
   "metadata": {},
   "source": [
    "## 4. Trie"
   ]
  },
  {
   "cell_type": "markdown",
   "metadata": {},
   "source": [
    "Implementation of a Trie (aka a prefix tree) data structure.\n",
    "It is fairly straightforward to implement as a dictionary of dictionaries with a marker specifying the end of a word (if present)."
   ]
  },
  {
   "cell_type": "code",
   "execution_count": 9,
   "metadata": {},
   "outputs": [],
   "source": [
    "class TrieNode:\n",
    "    def __init__(self) -> None:\n",
    "        self._children: dict[str, dict] = {}\n",
    "        self._isendofword: bool = False\n",
    "\n",
    "class Trie:\n",
    "    def __init__(self) -> None:\n",
    "        self._root: TrieNode = TrieNode()\n",
    "            \n",
    "    def insert(self, word: str) -> None:\n",
    "        \"\"\"Insert a word into a trie.\"\"\"\n",
    "\n",
    "        ptr: TrieNode = self._root\n",
    "        for char in word:\n",
    "            if char not in ptr._children:\n",
    "                ptr._children[char] = TrieNode()\n",
    "            ptr = ptr._children[char]\n",
    "            \n",
    "        ptr._isendofword = True\n",
    "        \n",
    "    def search(self, word: str) -> bool:\n",
    "        \"\"\"Search for a word in a trie.\"\"\"\n",
    "        \n",
    "        ptr: TrieNode = self._root\n",
    "        for char in word:\n",
    "            if char not in ptr._children:\n",
    "                return Falsse\n",
    "            ptr = ptr._children[char]\n",
    "            \n",
    "        return ptr._isendofword\n",
    "\n",
    "    def prefix(self, word: str) -> bool:\n",
    "        \"\"\"Check if the word is a prefix.\"\"\"\n",
    "        \n",
    "        ptr: TrieNode = self._root\n",
    "        for char in word:\n",
    "            if char not in ptr._children:\n",
    "                return Falsse\n",
    "            ptr = ptr._children[char]\n",
    "            \n",
    "        return True\n",
    "    \n",
    "    def __repr__(self) -> str:\n",
    "        \"\"\"Breadth-first traversal of a trie.\"\"\"\n",
    "\n",
    "        q: list[TrieNode] = deque([self._root])\n",
    "        res: list[str] = []\n",
    "        cur: int = 0\n",
    "        while q:\n",
    "            level: list[str] = [f\"Level {cur}: \"]\n",
    "            for _ in range(len(q)):\n",
    "                item: TrieNode = q.popleft()\n",
    "                for char, child in item._children.items():\n",
    "                    level.append(char)\n",
    "                    q.append(child)\n",
    "            res.extend([*level, \"\\n\"])\n",
    "            cur += 1\n",
    "\n",
    "        return \"\".join(res)"
   ]
  },
  {
   "cell_type": "code",
   "execution_count": 10,
   "metadata": {},
   "outputs": [
    {
     "name": "stdout",
     "output_type": "stream",
     "text": [
      "Level 0: cmi\n",
      "Level 1: ahic\n",
      "Level 2: role\n",
      "Level 3: ack-\n",
      "Level 4: moc\n",
      "Level 5: elr\n",
      "Level 6: lae\n",
      "Level 7: ta\n",
      "Level 8: em\n",
      "Level 9: \n",
      "\n"
     ]
    }
   ],
   "source": [
    "words: list[str] = [\"caramel\", \"chocolate\", \"milk\", \"ice-cream\"]\n",
    "trie: Trie = Trie()\n",
    "for word in words:\n",
    "    trie.insert(word)\n",
    "    \n",
    "pprint(trie)"
   ]
  },
  {
   "cell_type": "markdown",
   "metadata": {},
   "source": [
    "## 5. Merge Sort"
   ]
  },
  {
   "cell_type": "markdown",
   "metadata": {},
   "source": [
    "Merge sort is one of the most efficient sorts out there.\n",
    "It can also be parallelized (see [this Wikipedia link](https://en.wikipedia.org/wiki/Merge_sort#Parallel_merge_sort))\n",
    "\n",
    "> Fun fact: Python's built-in `sort` function uses Timsort which is a spionff of merge sort."
   ]
  },
  {
   "cell_type": "code",
   "execution_count": 11,
   "metadata": {},
   "outputs": [],
   "source": [
    "def merge(arr1: list[int], arr2: list[int]) -> list[int]:\n",
    "    \"\"\"Merge two sorted lists.\"\"\"\n",
    "    \n",
    "    res: list[int] = []\n",
    "    i: int = 0\n",
    "    j: int = 0\n",
    "    while i <= len(arr1) - 1 and j <= len(arr2) - 1:\n",
    "        if arr1[i] < arr2[j]:\n",
    "            res.append(arr1[i])\n",
    "            i += 1\n",
    "        else:\n",
    "            res.append(arr2[j])\n",
    "            j += 1\n",
    "            \n",
    "    while i <= len(arr1) - 1:\n",
    "        res.append(arr1[i])\n",
    "        i += 1\n",
    "        \n",
    "    while j <= len(arr2) - 1:\n",
    "        res.append(arr2[j])\n",
    "        j += 1\n",
    "        \n",
    "    return res\n",
    "\n",
    "def merge_sort(arr: list[int]) -> list[int]:\n",
    "    \"\"\"Implementes merge sort.\"\"\"\n",
    "    \n",
    "    if len(arr) < 2:\n",
    "        return arr\n",
    "    \n",
    "    mid: int = len(arr) // 2\n",
    "    left: list[int] = merge_sort(arr[:mid])\n",
    "    right: list[int] = merge_sort(arr[mid:])\n",
    "    return merge(left, right)"
   ]
  },
  {
   "cell_type": "code",
   "execution_count": 12,
   "metadata": {},
   "outputs": [
    {
     "name": "stdout",
     "output_type": "stream",
     "text": [
      "[1, 2, 4, 5, 6, 9, 10, 11, 12, 13]\n",
      "\n",
      "[[-1, 1, 2],\n",
      " [-123, 2, 6, 10, 123, 123, 123, 213, 4356, 5423, 456454],\n",
      " [0.1, 5.7, 9.1, 10.1, 123]]\n"
     ]
    }
   ],
   "source": [
    "arr1: list[int] = [1, 2, 4, 5, 6]\n",
    "arr2: list[int] = [9, 10, 11, 12, 13]\n",
    "pprint(merge(arr1, arr2))\n",
    "\n",
    "print()\n",
    "\n",
    "nums: list[int] = [[2, 1, -1], [10, 2, 123, 123, -123, 123, 213, 5423, 4356, 456454, 6], [123, 0.1, 5.7, 9.1, 10.1]]\n",
    "pprint(list(map(merge_sort, nums)))"
   ]
  },
  {
   "cell_type": "markdown",
   "metadata": {},
   "source": [
    "## "
   ]
  },
  {
   "cell_type": "markdown",
   "metadata": {},
   "source": [
    "## 6. Selection Sort"
   ]
  },
  {
   "cell_type": "markdown",
   "metadata": {},
   "source": [
    "One of the worst sorting algorithms out there.\n",
    "Better than bogosort, but worse than virtually anything else (except for bubble sort)."
   ]
  },
  {
   "cell_type": "code",
   "execution_count": 13,
   "metadata": {},
   "outputs": [],
   "source": [
    "numbers: list[int] = [3, 2, 5, 56.9, -2, -1, 12.5, 0, 12, 4.2, 6.1]"
   ]
  },
  {
   "cell_type": "code",
   "execution_count": 14,
   "metadata": {},
   "outputs": [],
   "source": [
    "def selection_sort(nums: list[int]) -> None:\n",
    "    \"\"\"Implements bubble sort (in-place implementation).\"\"\"\n",
    "\n",
    "    for i in range(len(numbers)):\n",
    "        for j in range(i, len(numbers)):\n",
    "            if numbers[i] > numbers[j]:\n",
    "                numbers[i], numbers[j] = numbers[j], numbers[i]"
   ]
  },
  {
   "cell_type": "code",
   "execution_count": 15,
   "metadata": {},
   "outputs": [
    {
     "name": "stdout",
     "output_type": "stream",
     "text": [
      "[3, 2, 5, 56.9, -2, -1, 12.5, 0, 12, 4.2, 6.1]\n",
      "[-2, -1, 0, 2, 3, 4.2, 5, 6.1, 12, 12.5, 56.9]\n"
     ]
    }
   ],
   "source": [
    "pprint(numbers)\n",
    "selection_sort(numbers)\n",
    "pprint(numbers)"
   ]
  },
  {
   "cell_type": "markdown",
   "metadata": {},
   "source": [
    "## 7. Bubble Sort"
   ]
  },
  {
   "cell_type": "code",
   "execution_count": 16,
   "metadata": {},
   "outputs": [],
   "source": [
    "numbers: list[int] = [3, 2, 5, 56.9, -2, -1, 12.5, 0, 12, 4.2, 6.1]"
   ]
  },
  {
   "cell_type": "code",
   "execution_count": 17,
   "metadata": {},
   "outputs": [],
   "source": [
    "def bubble_sort(nums: list[int]) -> None:\n",
    "    swapped: bool = True\n",
    "    its: int = 0\n",
    "    while swapped:\n",
    "        swapped = False\n",
    "        for i in range(len(nums) - its - 1):\n",
    "            if nums[i] > nums[i + 1]:\n",
    "                nums[i], nums[i + 1] = nums[i + 1], nums[i]\n",
    "                swapped = True\n",
    "        its += 1"
   ]
  },
  {
   "cell_type": "code",
   "execution_count": 18,
   "metadata": {},
   "outputs": [
    {
     "name": "stdout",
     "output_type": "stream",
     "text": [
      "[3, 2, 5, 56.9, -2, -1, 12.5, 0, 12, 4.2, 6.1]\n",
      "[-2, -1, 0, 2, 3, 4.2, 5, 6.1, 12, 12.5, 56.9]\n"
     ]
    }
   ],
   "source": [
    "pprint(numbers)\n",
    "bubble_sort(numbers)\n",
    "pprint(numbers)"
   ]
  },
  {
   "cell_type": "code",
   "execution_count": null,
   "metadata": {},
   "outputs": [],
   "source": []
  }
 ],
 "metadata": {
  "kernelspec": {
   "display_name": "Python 3",
   "language": "python",
   "name": "python3"
  },
  "language_info": {
   "codemirror_mode": {
    "name": "ipython",
    "version": 3
   },
   "file_extension": ".py",
   "mimetype": "text/x-python",
   "name": "python",
   "nbconvert_exporter": "python",
   "pygments_lexer": "ipython3",
   "version": "3.9.1"
  }
 },
 "nbformat": 4,
 "nbformat_minor": 4
}
