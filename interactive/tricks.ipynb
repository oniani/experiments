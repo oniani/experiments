{
 "cells": [
  {
   "cell_type": "markdown",
   "metadata": {},
   "source": [
    "# Helpers"
   ]
  },
  {
   "cell_type": "code",
   "execution_count": 53,
   "metadata": {},
   "outputs": [],
   "source": [
    "from collections import defaultdict\n",
    "from math import floor, sqrt\n",
    "from pprint import pprint\n",
    "from typing import Generator"
   ]
  },
  {
   "cell_type": "markdown",
   "metadata": {},
   "source": [
    "# Tricks"
   ]
  },
  {
   "cell_type": "markdown",
   "metadata": {},
   "source": [
    "## 1. Unique Representation of Anagrams (Grouping)"
   ]
  },
  {
   "cell_type": "code",
   "execution_count": 54,
   "metadata": {},
   "outputs": [],
   "source": [
    "strings: list[str] = [\"eat\", \"tea\", \"tan\", \"ate\", \"nat\", \"bat\"]"
   ]
  },
  {
   "cell_type": "markdown",
   "metadata": {},
   "source": [
    "### Using List Counts and ASCII Values"
   ]
  },
  {
   "cell_type": "code",
   "execution_count": 112,
   "metadata": {},
   "outputs": [
    {
     "name": "stdout",
     "output_type": "stream",
     "text": [
      "defaultdict(<class 'list'>,\n",
      "            {'10000000000001000001000000': ['tan', 'nat'],\n",
      "             '10001000000000000001000000': ['eat', 'tea', 'ate'],\n",
      "             '11000000000000000001000000': ['bat']})\n"
     ]
    }
   ],
   "source": [
    "def groupgen(strings: list[str]) -> list[list[str]]:\n",
    "    \"\"\"Group anagrams.\"\"\"\n",
    "    groups: dict[str, list[str]] = defaultdict(list)\n",
    "    for string in strings:\n",
    "        counts: list[int] = [0 for _ in range(26)]\n",
    "        for char in string:\n",
    "            counts[ord(char) - ord(\"a\")] += 1\n",
    "        groups[\"\".join(map(str, counts))].append(string)\n",
    "\n",
    "    return groups\n",
    "\n",
    "pprint(groupgen(strings))"
   ]
  },
  {
   "cell_type": "markdown",
   "metadata": {},
   "source": [
    "### Using k Distinct Primes"
   ]
  },
  {
   "cell_type": "code",
   "execution_count": 113,
   "metadata": {},
   "outputs": [
    {
     "name": "stdout",
     "output_type": "stream",
     "text": [
      "defaultdict(<class 'list'>,\n",
      "            {426: ['bat'],\n",
      "             1562: ['eat', 'tea', 'ate'],\n",
      "             6106: ['tan', 'nat']})\n"
     ]
    }
   ],
   "source": [
    "def is_prime(num: int) -> bool:\n",
    "    \"\"\"Checks whether a number is prime.\"\"\"\n",
    "    \n",
    "    if num % 6 not in {1, 5}:\n",
    "        return False\n",
    "\n",
    "    for div in range(2, floor(sqrt(num)) + 1):\n",
    "        if num % div == 0:\n",
    "            return False\n",
    "\n",
    "    return True\n",
    "\n",
    "def primegen() -> int:\n",
    "    \"\"\"Prime number generator.\"\"\"\n",
    "    yield from [2, 3]\n",
    "    num: int = 5\n",
    "    while True:\n",
    "        if is_prime(num):\n",
    "            yield num\n",
    "        num += 1\n",
    "\n",
    "# Generate primes\n",
    "gen: Generator[int, int, int] = primegen()\n",
    "primes: dict[str, int] = dict(zip(\"abcdefghijklmnopqrstuvwzyz\", [next(gen) for _ in range(26)]))\n",
    "\n",
    "# Generate groups\n",
    "groups: dict[int, list[str]] = defaultdict(list)\n",
    "for string in strings:\n",
    "    prod: int = 1\n",
    "    for char in string:\n",
    "        prod *= primes[char]\n",
    "    groups[prod].append(string)\n",
    "\n",
    "pprint(groups)"
   ]
  },
  {
   "cell_type": "markdown",
   "metadata": {},
   "source": [
    "## 2. MinimumArea Rectangle"
   ]
  },
  {
   "cell_type": "code",
   "execution_count": 114,
   "metadata": {},
   "outputs": [],
   "source": [
    "points: list[int] = [(1, 1), (1, 3), (3, 1), (3, 3), (2, 2)]"
   ]
  },
  {
   "cell_type": "code",
   "execution_count": 115,
   "metadata": {},
   "outputs": [
    {
     "name": "stdout",
     "output_type": "stream",
     "text": [
      "4\n"
     ]
    }
   ],
   "source": [
    "#\n",
    "#   (1, 3)     (3, 3)\n",
    "#     *          *\n",
    "#\n",
    "#     *          *\n",
    "#   (1, 1)     (3, 1)\n",
    "#\n",
    "\n",
    "def min_rec_area(points: list[tuple[float, float]]) -> float:\n",
    "    seen: set[tuple[int, int]] = set(map(tuple, points))\n",
    "\n",
    "    res: float = float(\"inf\")\n",
    "    for i in range(len(points)):\n",
    "        p1: tuple[int, int] = points[i]\n",
    "        # No need to iterate through all points in the second loop\n",
    "        # as at one point, all of the diagonals will be checked anyway\n",
    "        for j in range(i):\n",
    "            p2: tuple[int, int] = points[j]\n",
    "            # If the points form a diagonal\n",
    "            if p1[0] != p2[0] and p1[1] != p2[1]:\n",
    "                # And if we can find another diagonal\n",
    "                if {(p1[0], p2[1]), (p2[0], p1[1])} <= seen:\n",
    "                    # Properly update the minimum\n",
    "                    res = min(res, abs((p1[0] - p2[0]) * (p1[1] - p2[1])))\n",
    "\n",
    "\n",
    "    # In the end, if `res` has changed, return that value\n",
    "    # Otherwise, return `0`\n",
    "    return res if res != float(\"inf\") else 0\n",
    "\n",
    "pprint(min_rec_area(points))"
   ]
  },
  {
   "cell_type": "markdown",
   "metadata": {},
   "source": [
    "## 3. Balanced Parantheses"
   ]
  },
  {
   "cell_type": "markdown",
   "metadata": {},
   "source": [
    "The idea here is simple. The problem can be solved by applying the following procedures:\n",
    "\n",
    "- While there are characters to go through:\n",
    "    - If we stumble into an opening paranthesis, push it onto the stack\n",
    "    - If we stumble into a closing paranthesis:\n",
    "        - Make sure the stack is not empty\n",
    "        - Make sure that the last item on the stack was the opening one\n",
    "- Make sure that the stack is empty"
   ]
  },
  {
   "cell_type": "code",
   "execution_count": 2,
   "metadata": {},
   "outputs": [],
   "source": [
    "string1: str = \"((adasdsadl))a{{asldkasjdlsalkasdj}aslkdjaslk}sd(asdad)()a{asdlaksj{{asdkljadskl}}asdlkajdhl}s()sajdkla(()())das()(asda(asdas))(asd[[]asdas[[kjdsf]aslkdjas][]]asd)d(sadasd)\"\n",
    "string2: str = \"((adasdsadl))a{{asldkasjdlsalkasdj}aslkdjaslk}sd(asdad)()a{asdlaksj{{asdkljadskl}}asdlkajdhl}s()sajdkla(()())das()(asda(asdas))(asd[[]asdas[[kjdsf]aslkdjas][]]asd)d(sadasd)[\""
   ]
  },
  {
   "cell_type": "code",
   "execution_count": 3,
   "metadata": {},
   "outputs": [
    {
     "name": "stdout",
     "output_type": "stream",
     "text": [
      "True\n",
      "False\n"
     ]
    }
   ],
   "source": [
    "def is_balanced(string: str) -> bool:\n",
    "    \"\"\"Checks if a string contains balanced sequence of parantheses.\"\"\"\n",
    "\n",
    "    stack: list[str] = []\n",
    "    closing: dict[str, str] = {\")\": \"(\", \"}\": \"{\", \"]\": \"[\"}\n",
    "    opening: set[str] = set(closing.values())\n",
    "    for char in string:\n",
    "        if char in opening:\n",
    "            stack.append(char)\n",
    "        elif char in closing and (not stack or closing[char] != stack.pop()):\n",
    "            return False\n",
    "\n",
    "    return not stack\n",
    "\n",
    "print(is_balanced(string1))\n",
    "print(is_balanced(string2))"
   ]
  },
  {
   "cell_type": "code",
   "execution_count": null,
   "metadata": {},
   "outputs": [],
   "source": []
  }
 ],
 "metadata": {
  "kernelspec": {
   "display_name": "Python 3",
   "language": "python",
   "name": "python3"
  },
  "language_info": {
   "codemirror_mode": {
    "name": "ipython",
    "version": 3
   },
   "file_extension": ".py",
   "mimetype": "text/x-python",
   "name": "python",
   "nbconvert_exporter": "python",
   "pygments_lexer": "ipython3",
   "version": "3.9.1"
  }
 },
 "nbformat": 4,
 "nbformat_minor": 4
}
